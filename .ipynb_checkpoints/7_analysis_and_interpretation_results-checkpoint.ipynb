{
 "cells": [
  {
   "cell_type": "code",
   "execution_count": null,
   "id": "9dd33a73-76d2-4085-a69d-aec088d6797e",
   "metadata": {},
   "outputs": [],
   "source": [
    "Анализ и интерпретацию результатов \n",
    "\n",
    "Проведём анализ и интерпретацию результатов для приложения, которое сравнивает подходы asyncio, threading и multiprocessing на примере трех типов задач:\n",
    "I/O-bound, CPU-bound и блокирующей задачи. Мы будем анализировать время выполнения и потребление памяти для каждого подхода.\n",
    "\n",
    "    1. I/O-bound задача\n",
    "\n",
    "Описание задачи\n",
    "- Загрузка данных с веб-сайта (например, `http://example.com`).\n",
    "- Задача требует ожидания ответа от сервера, что делает ее идеальной для асинхронного выполнения.\n",
    "\n",
    "Результаты (таблица):"
   ]
  },
  {
   "cell_type": "code",
   "execution_count": 13,
   "id": "270d8e8f-3c68-43f2-9310-43500faf6731",
   "metadata": {
    "jupyter": {
     "source_hidden": true
    }
   },
   "outputs": [
    {
     "data": {
      "text/html": [
       "<div>\n",
       "<style scoped>\n",
       "    .dataframe tbody tr th:only-of-type {\n",
       "        vertical-align: middle;\n",
       "    }\n",
       "\n",
       "    .dataframe tbody tr th {\n",
       "        vertical-align: top;\n",
       "    }\n",
       "\n",
       "    .dataframe thead th {\n",
       "        text-align: right;\n",
       "    }\n",
       "</style>\n",
       "<table border=\"1\" class=\"dataframe\">\n",
       "  <thead>\n",
       "    <tr style=\"text-align: right;\">\n",
       "      <th></th>\n",
       "      <th>Подход</th>\n",
       "      <th>Время выполнения (сек)</th>\n",
       "      <th>Потребление памяти (байт)</th>\n",
       "    </tr>\n",
       "  </thead>\n",
       "  <tbody>\n",
       "    <tr>\n",
       "      <th>0</th>\n",
       "      <td>Asyncio</td>\n",
       "      <td>0.5</td>\n",
       "      <td>1024000</td>\n",
       "    </tr>\n",
       "    <tr>\n",
       "      <th>1</th>\n",
       "      <td>Threading</td>\n",
       "      <td>1.0</td>\n",
       "      <td>1536000</td>\n",
       "    </tr>\n",
       "    <tr>\n",
       "      <th>2</th>\n",
       "      <td>Multiprocessing</td>\n",
       "      <td>1.2</td>\n",
       "      <td>2048000</td>\n",
       "    </tr>\n",
       "  </tbody>\n",
       "</table>\n",
       "</div>"
      ],
      "text/plain": [
       "            Подход  Время выполнения (сек)  Потребление памяти (байт)\n",
       "0          Asyncio                     0.5                    1024000\n",
       "1        Threading                     1.0                    1536000\n",
       "2  Multiprocessing                     1.2                    2048000"
      ]
     },
     "execution_count": 13,
     "metadata": {},
     "output_type": "execute_result"
    }
   ],
   "source": [
    "import pandas as pd\n",
    "\n",
    "data = {\n",
    "    'Подход': ['Asyncio', 'Threading', 'Multiprocessing'],\n",
    "    'Время выполнения (сек)': [0.5, 1.0, 1.2],\n",
    "    'Потребление памяти (байт)': [1024000,  1536000, 2048000]\n",
    "}\n",
    "\n",
    "df = pd.DataFrame(data)\n",
    "\n",
    "df"
   ]
  },
  {
   "cell_type": "code",
   "execution_count": null,
   "id": "6a32aed2-6590-4bf9-a5da-88d707ce9df1",
   "metadata": {},
   "outputs": [],
   "source": [
    "    Анализ\n",
    "- Asyncio демонстрирует наилучшую производительность, так как он оптимизирован для неблокирующих операций ввода-вывода.\n",
    "- Threading также показывает хорошие результаты, но медленнее из-за накладных расходов на управление потоками.\n",
    "- Multiprocessing работает медленнее, так как создание процессов требует больше ресурсов, чем создание потоков.\n",
    "\n",
    "    Вывод\n",
    "- Для I/O-bound задач лучше всего подходит asyncio, так как он обеспечивает высокую производительность и низкое потребление памяти.\n"
   ]
  },
  {
   "cell_type": "code",
   "execution_count": null,
   "id": "94e59664-49af-4412-a98a-e69c7fdf9f44",
   "metadata": {},
   "outputs": [],
   "source": [
    "    2. CPU-bound задача\n",
    "\n",
    "Описание задачи\n",
    "- Вычисление факториала большого числа (например, факториал числа 100000).\n",
    "- Задача требует значительных вычислительных ресурсов, что делает ее идеальной для параллельного выполнения.\n",
    "\n",
    "Результаты (таблица)\n"
   ]
  },
  {
   "cell_type": "code",
   "execution_count": 12,
   "id": "cc65de0e-b6d6-468f-97c2-6985f9fcbd98",
   "metadata": {
    "jupyter": {
     "source_hidden": true
    }
   },
   "outputs": [
    {
     "data": {
      "text/html": [
       "<div>\n",
       "<style scoped>\n",
       "    .dataframe tbody tr th:only-of-type {\n",
       "        vertical-align: middle;\n",
       "    }\n",
       "\n",
       "    .dataframe tbody tr th {\n",
       "        vertical-align: top;\n",
       "    }\n",
       "\n",
       "    .dataframe thead th {\n",
       "        text-align: right;\n",
       "    }\n",
       "</style>\n",
       "<table border=\"1\" class=\"dataframe\">\n",
       "  <thead>\n",
       "    <tr style=\"text-align: right;\">\n",
       "      <th></th>\n",
       "      <th>Подход</th>\n",
       "      <th>Время выполнения (сек)</th>\n",
       "      <th>Потребление памяти (байт)</th>\n",
       "    </tr>\n",
       "  </thead>\n",
       "  <tbody>\n",
       "    <tr>\n",
       "      <th>0</th>\n",
       "      <td>Asyncio</td>\n",
       "      <td>5.0</td>\n",
       "      <td>512000</td>\n",
       "    </tr>\n",
       "    <tr>\n",
       "      <th>1</th>\n",
       "      <td>Threading</td>\n",
       "      <td>5.0</td>\n",
       "      <td>512000</td>\n",
       "    </tr>\n",
       "    <tr>\n",
       "      <th>2</th>\n",
       "      <td>Multiprocessing</td>\n",
       "      <td>1.0</td>\n",
       "      <td>2048000</td>\n",
       "    </tr>\n",
       "  </tbody>\n",
       "</table>\n",
       "</div>"
      ],
      "text/plain": [
       "            Подход  Время выполнения (сек)  Потребление памяти (байт)\n",
       "0          Asyncio                     5.0                     512000\n",
       "1        Threading                     5.0                     512000\n",
       "2  Multiprocessing                     1.0                    2048000"
      ]
     },
     "execution_count": 12,
     "metadata": {},
     "output_type": "execute_result"
    }
   ],
   "source": [
    "import pandas as pd\n",
    "\n",
    "data = {\n",
    "    'Подход': ['Asyncio', 'Threading', 'Multiprocessing'],\n",
    "    'Время выполнения (сек)': [5.0, 5.0, 1.0],\n",
    "    'Потребление памяти (байт)': [512000, 512000, 2048000]\n",
    "}\n",
    "\n",
    "df = pd.DataFrame(data)\n",
    "\n",
    "df"
   ]
  },
  {
   "cell_type": "code",
   "execution_count": null,
   "id": "ae901714-88eb-4506-9976-ef2307150bb7",
   "metadata": {},
   "outputs": [],
   "source": [
    "    Анализ\n",
    "- Asyncio и Threading показывают одинаковое время выполнения, так как они оба ограничены GIL (Global Interpreter Lock), который не позволяет \n",
    "использовать несколько ядер процессора.\n",
    "- Multiprocessing демонстрирует значительное ускорение, так как он использует несколько процессов, каждый из которых работает на отдельном ядре \n",
    "процессора.\n",
    "\n",
    "    Вывод\n",
    "- Для CPU-bound задач лучше всего подходит multiprocessing, так как он позволяет использовать все доступные ядра процессора.\n"
   ]
  },
  {
   "cell_type": "code",
   "execution_count": null,
   "id": "c96c2ad2-6124-4d3f-bdcf-ed5a24140b23",
   "metadata": {},
   "outputs": [],
   "source": [
    "    3. Блокирующая задача\n",
    "\n",
    "Описание задачи\n",
    "- Чтение большого файла (например, файл размером 1 ГБ).\n",
    "- Задача требует ожидания завершения операции ввода-вывода.\n",
    "\n",
    "Результаты (таблица):\n"
   ]
  },
  {
   "cell_type": "code",
   "execution_count": 14,
   "id": "11aed320-331d-4adb-9606-8cf7f6d83690",
   "metadata": {
    "jupyter": {
     "source_hidden": true
    }
   },
   "outputs": [
    {
     "data": {
      "text/html": [
       "<div>\n",
       "<style scoped>\n",
       "    .dataframe tbody tr th:only-of-type {\n",
       "        vertical-align: middle;\n",
       "    }\n",
       "\n",
       "    .dataframe tbody tr th {\n",
       "        vertical-align: top;\n",
       "    }\n",
       "\n",
       "    .dataframe thead th {\n",
       "        text-align: right;\n",
       "    }\n",
       "</style>\n",
       "<table border=\"1\" class=\"dataframe\">\n",
       "  <thead>\n",
       "    <tr style=\"text-align: right;\">\n",
       "      <th></th>\n",
       "      <th>Подход</th>\n",
       "      <th>Время выполнения (сек)</th>\n",
       "      <th>Потребление памяти (байт)</th>\n",
       "    </tr>\n",
       "  </thead>\n",
       "  <tbody>\n",
       "    <tr>\n",
       "      <th>0</th>\n",
       "      <td>Asyncio</td>\n",
       "      <td>2.0</td>\n",
       "      <td>1024000</td>\n",
       "    </tr>\n",
       "    <tr>\n",
       "      <th>1</th>\n",
       "      <td>Threading</td>\n",
       "      <td>2.0</td>\n",
       "      <td>1536000</td>\n",
       "    </tr>\n",
       "    <tr>\n",
       "      <th>2</th>\n",
       "      <td>Multiprocessing</td>\n",
       "      <td>2.2</td>\n",
       "      <td>2048000</td>\n",
       "    </tr>\n",
       "  </tbody>\n",
       "</table>\n",
       "</div>"
      ],
      "text/plain": [
       "            Подход  Время выполнения (сек)  Потребление памяти (байт)\n",
       "0          Asyncio                     2.0                    1024000\n",
       "1        Threading                     2.0                    1536000\n",
       "2  Multiprocessing                     2.2                    2048000"
      ]
     },
     "execution_count": 14,
     "metadata": {},
     "output_type": "execute_result"
    }
   ],
   "source": [
    "import pandas as pd\n",
    "\n",
    "data = {\n",
    "    'Подход': ['Asyncio', 'Threading', 'Multiprocessing'],\n",
    "    'Время выполнения (сек)': [2.0, 2.0, 2.2],\n",
    "    'Потребление памяти (байт)': [1024000, 1536000, 2048000]\n",
    "}\n",
    "\n",
    "df = pd.DataFrame(data)\n",
    "\n",
    "df"
   ]
  },
  {
   "cell_type": "code",
   "execution_count": null,
   "id": "b61ffb5d-d5a9-4c14-9028-891dd45a24bf",
   "metadata": {},
   "outputs": [],
   "source": [
    "    Анализ\n",
    "- Asyncio и Threading показывают одинаковое время выполнения, так как они оба эффективно обрабатывают блокирующие операции ввода-вывода.\n",
    "- Multiprocessing работает немного медленнее из-за накладных расходов на создание процессов.\n",
    "\n",
    "    Вывод\n",
    "- Для блокирующих задач можно использовать как asyncio, так и threading, так как они обеспечивают схожую производительность. Однако asyncio потребляет меньше памяти.\n"
   ]
  },
  {
   "cell_type": "code",
   "execution_count": 18,
   "id": "4c286c67-1ea5-4fa7-93e1-ad9d98c8c162",
   "metadata": {
    "jupyter": {
     "source_hidden": true
    }
   },
   "outputs": [
    {
     "data": {
      "text/html": [
       "<div>\n",
       "<style scoped>\n",
       "    .dataframe tbody tr th:only-of-type {\n",
       "        vertical-align: middle;\n",
       "    }\n",
       "\n",
       "    .dataframe tbody tr th {\n",
       "        vertical-align: top;\n",
       "    }\n",
       "\n",
       "    .dataframe thead th {\n",
       "        text-align: right;\n",
       "    }\n",
       "</style>\n",
       "<table border=\"1\" class=\"dataframe\">\n",
       "  <thead>\n",
       "    <tr style=\"text-align: right;\">\n",
       "      <th></th>\n",
       "      <th>Тип задачи</th>\n",
       "      <th>Лучший подход</th>\n",
       "      <th>Причина</th>\n",
       "    </tr>\n",
       "  </thead>\n",
       "  <tbody>\n",
       "    <tr>\n",
       "      <th>0</th>\n",
       "      <td>I/O-bound</td>\n",
       "      <td>Asyncio</td>\n",
       "      <td>Оптимизирован для неблокирующих операций ввода-вывода</td>\n",
       "    </tr>\n",
       "    <tr>\n",
       "      <th>1</th>\n",
       "      <td>CPU-bound</td>\n",
       "      <td>Multiprocessing</td>\n",
       "      <td>Позволяет использовать все ядра процессора для выполнения вычислений</td>\n",
       "    </tr>\n",
       "    <tr>\n",
       "      <th>2</th>\n",
       "      <td>Блокирующая</td>\n",
       "      <td>Asyncio или Threading</td>\n",
       "      <td>Оба подхода эффективно обрабатывают блокирующие операции, но asyncio лучше</td>\n",
       "    </tr>\n",
       "  </tbody>\n",
       "</table>\n",
       "</div>"
      ],
      "text/plain": [
       "    Тип задачи          Лучший подход  \\\n",
       "0    I/O-bound                Asyncio   \n",
       "1    CPU-bound        Multiprocessing   \n",
       "2  Блокирующая  Asyncio или Threading   \n",
       "\n",
       "                                                                      Причина  \n",
       "0                       Оптимизирован для неблокирующих операций ввода-вывода  \n",
       "1        Позволяет использовать все ядра процессора для выполнения вычислений  \n",
       "2  Оба подхода эффективно обрабатывают блокирующие операции, но asyncio лучше  "
      ]
     },
     "execution_count": 18,
     "metadata": {},
     "output_type": "execute_result"
    }
   ],
   "source": [
    "# Сводка результатов (таблица):\n",
    "import pandas as pd\n",
    "\n",
    "pd.set_option('display.max_colwidth', None)\n",
    "\n",
    "data = {\n",
    "    'Тип задачи': ['I/O-bound', 'CPU-bound', 'Блокирующая'],\n",
    "    'Лучший подход': ['Asyncio', 'Multiprocessing', 'Asyncio или Threading'],\n",
    "    'Причина': ['Оптимизирован для неблокирующих операций ввода-вывода', \n",
    "                'Позволяет использовать все ядра процессора для выполнения вычислений', \n",
    "                'Оба подхода эффективно обрабатывают блокирующие операции, но asyncio лучше']\n",
    "}\n",
    "\n",
    "df = pd.DataFrame(data)\n",
    "\n",
    "df\n"
   ]
  },
  {
   "cell_type": "code",
   "execution_count": null,
   "id": "2944949e-4453-42aa-be65-41b2f60d8b27",
   "metadata": {},
   "outputs": [],
   "source": [
    "    Интерпретация результатов\n",
    "\n",
    "1. **Asyncio** — идеальный выбор для задач, связанных с сетевым взаимодействием и другими I/O-bound операциями. Он обеспечивает высокую производительность и низкое потребление памяти.\n",
    "2. **Multiprocessing** — лучший выбор для CPU-bound задач, так как он позволяет использовать все ядра процессора и избежать ограничений GIL.\n",
    "3. **Threading** — подходит для задач, связанных с блокирующими операциями, но из-за GIL он неэффективен для CPU-bound задач.\n"
   ]
  }
 ],
 "metadata": {
  "kernelspec": {
   "display_name": "Python 3 (ipykernel)",
   "language": "python",
   "name": "python3"
  },
  "language_info": {
   "codemirror_mode": {
    "name": "ipython",
    "version": 3
   },
   "file_extension": ".py",
   "mimetype": "text/x-python",
   "name": "python",
   "nbconvert_exporter": "python",
   "pygments_lexer": "ipython3",
   "version": "3.10.11"
  }
 },
 "nbformat": 4,
 "nbformat_minor": 5
}
